{
 "cells": [
  {
   "cell_type": "code",
   "execution_count": 187,
   "metadata": {},
   "outputs": [
    {
     "name": "stdout",
     "output_type": "stream",
     "text": [
      "The autoreload extension is already loaded. To reload it, use:\n",
      "  %reload_ext autoreload\n"
     ]
    }
   ],
   "source": [
    "from LPLGraph import LPLGraph\n",
    "import matplotlib.pyplot as plt\n",
    "from scipy import stats\n",
    "\n",
    "%matplotlib inline\n",
    "\n",
    "%load_ext autoreload\n",
    "%autoreload 2"
   ]
  },
  {
   "cell_type": "code",
   "execution_count": 585,
   "metadata": {},
   "outputs": [],
   "source": [
    "%reload_ext autoreload"
   ]
  },
  {
   "cell_type": "code",
   "execution_count": 586,
   "metadata": {},
   "outputs": [],
   "source": [
    "# Parameters\n",
    "state_hash_size = 2\n",
    "num_actions = 2\n",
    "num_particles = 10\n",
    "G = LPLGraph(state_hash_size, num_actions, num_particles)"
   ]
  },
  {
   "cell_type": "code",
   "execution_count": 587,
   "metadata": {},
   "outputs": [
    {
     "data": {
      "text/plain": [
       "NodeView(('state_0', 'state_1', 'state_2', 'state_3', 'state_0_action_0', 'state_0_action_1', 'state_1_action_0', 'state_1_action_1', 'state_2_action_0', 'state_2_action_1', 'state_3_action_0', 'state_3_action_1'))"
      ]
     },
     "execution_count": 587,
     "metadata": {},
     "output_type": "execute_result"
    }
   ],
   "source": [
    "G.G.nodes"
   ]
  },
  {
   "cell_type": "code",
   "execution_count": 588,
   "metadata": {},
   "outputs": [
    {
     "data": {
      "text/plain": [
       "[]"
      ]
     },
     "execution_count": 588,
     "metadata": {},
     "output_type": "execute_result"
    }
   ],
   "source": [
    "list(G.G.edges)"
   ]
  },
  {
   "cell_type": "code",
   "execution_count": 603,
   "metadata": {},
   "outputs": [],
   "source": [
    "# Adhoc data\n",
    "\n",
    "prev_s = 0\n",
    "a = 0\n",
    "next_s = 1"
   ]
  },
  {
   "cell_type": "code",
   "execution_count": 681,
   "metadata": {},
   "outputs": [
    {
     "name": "stdout",
     "output_type": "stream",
     "text": [
      "layer:  0 , previous particle_val:  0.5626894053049957\n",
      "\t next_state_expected_val:  0.24607003846250597 , particle_val:  0.6380824014587451\n",
      "layer:  1 , previous particle_val:  0.6552335225020912\n",
      "\t next_state_expected_val:  0.22590255349159274 , particle_val:  0.7326432671529319\n",
      "layer:  2 , previous particle_val:  1.0\n",
      "\t next_state_expected_val:  0.0 , particle_val:  1.0\n",
      "layer:  3 , previous particle_val:  1.0\n",
      "\t next_state_expected_val:  0.0 , particle_val:  1.0\n",
      "layer:  4 , previous particle_val:  1.0\n",
      "\t next_state_expected_val:  0.0 , particle_val:  1.0\n",
      "layer:  5 , previous particle_val:  0.9465258675204782\n",
      "\t next_state_expected_val:  0.05061464963508437 , particle_val:  1.0\n",
      "layer:  6 , previous particle_val:  1.0\n",
      "\t next_state_expected_val:  0.0 , particle_val:  1.0\n",
      "layer:  7 , previous particle_val:  1.0\n",
      "\t next_state_expected_val:  0.0 , particle_val:  1.0\n",
      "layer:  8 , previous particle_val:  0.4738994915368375\n",
      "\t next_state_expected_val:  0.2493187634579644 , particle_val:  0.5489676151910411\n",
      "layer:  9 , previous particle_val:  0.6242958779472808\n",
      "\t next_state_expected_val:  0.23455053472531467 , particle_val:  0.7008408244747494\n"
     ]
    }
   ],
   "source": [
    "G.update_causal_strength(prev_s, a, next_s)"
   ]
  },
  {
   "cell_type": "code",
   "execution_count": 682,
   "metadata": {},
   "outputs": [
    {
     "data": {
      "text/plain": [
       "{'type': 'definite',\n",
       " 'V_a': array([0.6380824 , 0.73264327, 1.        , 1.        , 1.        ,\n",
       "        1.        , 1.        , 1.        , 0.54896762, 0.70084082]),\n",
       " 'V_s': array([ 0.74415258,  0.17756981,  1.09504303,  0.75483756,  1.3401838 ,\n",
       "         2.00536571, -0.70844706,  0.09492667, -0.13398279, -1.70412097])}"
      ]
     },
     "execution_count": 682,
     "metadata": {},
     "output_type": "execute_result"
    }
   ],
   "source": [
    "G.G['state_0_action_0']['state_1']"
   ]
  },
  {
   "cell_type": "code",
   "execution_count": 683,
   "metadata": {},
   "outputs": [
    {
     "data": {
      "text/plain": [
       "{'type': 'potential',\n",
       " 'V_a': array([ 1.48307968e-01, -5.36640244e-04, -9.76967099e-02,  1.00000000e+00,\n",
       "         1.00000000e+00,  5.58149871e-01, -1.33302783e-01, -9.44497490e-03,\n",
       "        -1.20331053e-01, -4.41327486e-02]),\n",
       " 'V_s': array([-1.567253  ,  1.46275544,  1.88234496,  1.24651369, -1.75242446,\n",
       "         0.62899916,  1.28676126, -0.94999846, -1.66455925, -0.99457345])}"
      ]
     },
     "execution_count": 683,
     "metadata": {},
     "output_type": "execute_result"
    }
   ],
   "source": [
    "G.G['state_0_action_0']['state_2']"
   ]
  },
  {
   "cell_type": "code",
   "execution_count": 684,
   "metadata": {},
   "outputs": [
    {
     "name": "stdout",
     "output_type": "stream",
     "text": [
      "0.030509778053734782\n",
      "0.8620534108277468\n",
      "t-test stats:  Ttest_1sampResult(statistic=14.805937272102824, pvalue=1.2631167885498693e-07)\n",
      "t-test stats:  Ttest_1sampResult(statistic=-2.369259863172251, pvalue=0.041959826408228505)\n"
     ]
    }
   ],
   "source": [
    "print(G.action_confidence(0, 0, 1))\n",
    "print(G.causal_strength(0, 0, 1))\n",
    "print(\"t-test stats: \", stats.ttest_1samp(G.G['state_0_action_0']['state_1']['V_a'], 0))\n",
    "print(\"t-test stats: \", stats.ttest_1samp(G.G['state_0_action_0']['state_1']['V_a'], 1))"
   ]
  },
  {
   "cell_type": "code",
   "execution_count": 685,
   "metadata": {},
   "outputs": [
    {
     "name": "stdout",
     "output_type": "stream",
     "text": [
      "0.18478915181051864\n",
      "0.23010129295250512\n",
      "t-test stats:  Ttest_1sampResult(statistic=1.6058392830750408, pvalue=0.14277179153242872)\n",
      "t-test stats:  Ttest_1sampResult(statistic=-5.372997134878072, pvalue=0.00044859523258265163)\n"
     ]
    }
   ],
   "source": [
    "print(G.action_confidence(0, 0, 2))\n",
    "print(G.causal_strength(0, 0, 2))\n",
    "print(\"t-test stats: \", stats.ttest_1samp(G.G['state_0_action_0']['state_2']['V_a'], 0))\n",
    "print(\"t-test stats: \", stats.ttest_1samp(G.G['state_0_action_0']['state_2']['V_a'], 1))"
   ]
  },
  {
   "cell_type": "code",
   "execution_count": 686,
   "metadata": {},
   "outputs": [
    {
     "data": {
      "text/plain": [
       "0.10764946493212671"
      ]
     },
     "execution_count": 686,
     "metadata": {},
     "output_type": "execute_result"
    }
   ],
   "source": [
    "G.action_confidence(0, 0)"
   ]
  },
  {
   "cell_type": "code",
   "execution_count": null,
   "metadata": {},
   "outputs": [],
   "source": []
  }
 ],
 "metadata": {
  "kernelspec": {
   "display_name": "Python 3",
   "language": "python",
   "name": "python3"
  },
  "language_info": {
   "codemirror_mode": {
    "name": "ipython",
    "version": 3
   },
   "file_extension": ".py",
   "mimetype": "text/x-python",
   "name": "python",
   "nbconvert_exporter": "python",
   "pygments_lexer": "ipython3",
   "version": "3.6.8"
  }
 },
 "nbformat": 4,
 "nbformat_minor": 2
}
